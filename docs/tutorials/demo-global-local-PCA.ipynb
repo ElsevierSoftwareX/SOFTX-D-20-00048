{
 "cells": [
  {
   "cell_type": "markdown",
   "metadata": {},
   "source": [
    "# Global versus local PCA\n",
    "\n",
    "In this notebook we present how global and local PCA can be performed using `pca_impl`."
   ]
  },
  {
   "cell_type": "code",
   "execution_count": 1,
   "metadata": {},
   "outputs": [],
   "source": [
    "import matplotlib.pyplot as plt\n",
    "from matplotlib import gridspec\n",
    "import numpy as np\n",
    "import PCAfold.pca_impl as PCA\n",
    "from sklearn.cluster import KMeans\n",
    "\n",
    "# Set some initial parameters:\n",
    "global_color = '#6a6e7a'\n",
    "k1_color = '#0e7da7'\n",
    "k2_color = '#ceca70'\n",
    "PC_color = '#000000'\n",
    "data_point = 4\n",
    "font_size = 16\n",
    "save_plots = False\n",
    "font_text = 20\n",
    "line_width = 1\n",
    "n_points = 1000\n",
    "\n",
    "# Fonts:\n",
    "csfont = {'fontname':'Charter', 'fontweight':'regular'}\n",
    "hfont = {'fontname':'Charter', 'fontweight':'bold'}"
   ]
  },
  {
   "cell_type": "code",
   "execution_count": 2,
   "metadata": {},
   "outputs": [],
   "source": [
    "def local_pca(X, idx):\n",
    "\n",
    "    n_k = len(np.unique(idx))\n",
    "\n",
    "    # Initialize the outputs:\n",
    "    PCs = []\n",
    "    eigvals = []\n",
    "    PC_scores = []\n",
    "\n",
    "    for k in range(0, n_k):\n",
    "\n",
    "        # Extract local cluster:\n",
    "        X_k = X[idx==k]\n",
    "\n",
    "        # Perform PCA in a local cluster:\n",
    "        pca = P.PCA(X, 'none', 2, useXTXeig=True)\n",
    "        PC_scores.append(pca.transform(X_k))\n",
    "        PCs.append(pca.Q)\n",
    "        eigvals.append(pca.explained_variance_ratio_)\n",
    "\n",
    "    return (PCs, eigvals, PC_scores)"
   ]
  },
  {
   "cell_type": "code",
   "execution_count": 3,
   "metadata": {},
   "outputs": [
    {
     "ename": "TypeError",
     "evalue": "'module' object is not callable",
     "output_type": "error",
     "traceback": [
      "\u001b[0;31m---------------------------------------------------------------------------\u001b[0m",
      "\u001b[0;31mTypeError\u001b[0m                                 Traceback (most recent call last)",
      "\u001b[0;32m<ipython-input-3-d2184f2e0074>\u001b[0m in \u001b[0;36m<module>\u001b[0;34m\u001b[0m\n\u001b[1;32m     21\u001b[0m \u001b[0;34m\u001b[0m\u001b[0m\n\u001b[1;32m     22\u001b[0m \u001b[0;31m# Perform PCA\u001b[0m\u001b[0;34m\u001b[0m\u001b[0;34m\u001b[0m\u001b[0;34m\u001b[0m\u001b[0m\n\u001b[0;32m---> 23\u001b[0;31m \u001b[0mpca\u001b[0m \u001b[0;34m=\u001b[0m \u001b[0mPCA\u001b[0m\u001b[0;34m(\u001b[0m\u001b[0;34m)\u001b[0m\u001b[0;34m\u001b[0m\u001b[0;34m\u001b[0m\u001b[0m\n\u001b[0m\u001b[1;32m     24\u001b[0m \u001b[0mpca\u001b[0m\u001b[0;34m.\u001b[0m\u001b[0mfit\u001b[0m\u001b[0;34m(\u001b[0m\u001b[0mDataset\u001b[0m\u001b[0;34m)\u001b[0m\u001b[0;34m\u001b[0m\u001b[0;34m\u001b[0m\u001b[0m\n\u001b[1;32m     25\u001b[0m \u001b[0mscores\u001b[0m \u001b[0;34m=\u001b[0m \u001b[0mpca\u001b[0m\u001b[0;34m.\u001b[0m\u001b[0mtransform\u001b[0m\u001b[0;34m(\u001b[0m\u001b[0mDataset\u001b[0m\u001b[0;34m)\u001b[0m\u001b[0;34m\u001b[0m\u001b[0;34m\u001b[0m\u001b[0m\n",
      "\u001b[0;31mTypeError\u001b[0m: 'module' object is not callable"
     ]
    },
    {
     "data": {
      "image/png": "[encoded data removed]",
      "text/plain": [
       "<Figure size 936x288 with 1 Axes>"
      ]
     },
     "metadata": {
      "needs_background": "light"
     },
     "output_type": "display_data"
    }
   ],
   "source": [
    "figure = plt.figure(figsize=(13, 4))\n",
    "gs = gridspec.GridSpec(1, 2, width_ratios=[1, 2])\n",
    "\n",
    "# First subplot\n",
    "figureSubplot = plt.subplot(gs[0])\n",
    "\n",
    "# Generate randomized dataset with linearity\n",
    "q = 1\n",
    "# Data generation:\n",
    "\n",
    "mean1 = [0,1] # data already centered\n",
    "covariance1 = [[3.4, 1.1], [1.1, 2.1]]\n",
    "x1, y1 = np.random.multivariate_normal(mean1, covariance1, n_points).T\n",
    "\n",
    "y = np.linspace(0,4,n_points)\n",
    "x = -(y**2) + 7*y + 4\n",
    "y = y + y1\n",
    "x = x + x1\n",
    "Dataset = np.column_stack((np.concatenate([x]), np.concatenate([y])))\n",
    "Dataset_proc = Dataset - np.mean(Dataset, axis=0)\n",
    "\n",
    "# Perform PCA\n",
    "pca = PCA()\n",
    "pca.fit(Dataset)\n",
    "scores = pca.transform(Dataset)\n",
    "PCs = pca.components_\n",
    "eigvals = pca.explained_variance_ratio_\n",
    "\n",
    "Dataset_projected = np.dot(Dataset_proc, np.transpose(pca.components_[:q,:]))\n",
    "Dataset_approx = np.dot(pca.transform(Dataset)[:,:q], pca.components_[:q,:]) + np.mean(Dataset, axis=0)\n",
    "\n",
    "plt.scatter(Dataset_proc[:,0], Dataset_proc[:,1], s=data_point, color=global_color, marker='o', linewidth=line_width)\n",
    "# The strange notation for the eigenvals is to match the methodology of `scale` option,\n",
    "# since the larger it is, the shorter the vector.\n",
    "plt.quiver(PCs[0,0], PCs[0,1], scale=40*(1-eigvals[0]), color=PC_color, width=0.014)\n",
    "plt.quiver(PCs[1,0], PCs[1,1], scale=10*(1-eigvals[1]), color=PC_color, width=0.014)\n",
    "plt.axis('equal')\n",
    "plt.yticks([]), plt.xticks([])\n",
    "plt.title('Globally applied PCA', **csfont, fontsize=font_text, color=PC_color)\n",
    "plt.scatter(0, 0, color=PC_color, marker='x', lineWidth=data_point, s=20);\n",
    "\n",
    "# Second subplot\n",
    "figureSubplot = plt.subplot(gs[1])\n",
    "\n",
    "# Data generation:\n",
    "mean1 = [0,1] # data already centered\n",
    "covariance1 = [[2, 0.5], [0.5, 0.5]]\n",
    "x1, y1 = np.random.multivariate_normal(mean1, covariance1, n_points).T\n",
    "\n",
    "mean2 = [6, 4] # data already centered\n",
    "covariance2 = [[3, 0.3], [0.3, 0.5]]\n",
    "x2, y2 = np.random.multivariate_normal(mean2, covariance2, n_points).T\n",
    "\n",
    "X = np.column_stack((np.concatenate([x1, x2]), np.concatenate([y1, y2])))\n",
    "\n",
    "kmeans = KMeans(n_clusters=2, random_state=0).fit(X)\n",
    "idx = kmeans.labels_\n",
    "centroids = kmeans.cluster_centers_\n",
    "(PCs, eigvals, PC_scores) = local_pca(X, idx)\n",
    "\n",
    "plt.axis('equal')\n",
    "\n",
    "plt.scatter(X[idx==0,0], X[idx==0,1], s=data_point, c=k1_color, marker='o')\n",
    "plt.scatter(X[idx==1,0], X[idx==1,1], s=data_point, c=k2_color, marker='o')\n",
    "\n",
    "origin = [centroids[0][0]], [centroids[0][1]]\n",
    "plt.quiver(*origin, PCs[0][0,0], PCs[0][0,1], scale=30*(1-eigvals[0][0]), color=PC_color, width=0.007)\n",
    "origin = [centroids[0][0]], [centroids[0][1]]\n",
    "plt.quiver(*origin, PCs[0][1,0], PCs[0][1,1], scale=15*(1-eigvals[0][1]), color=PC_color, width=0.007)\n",
    "origin = [centroids[1][0]], [centroids[1][1]]\n",
    "plt.quiver(*origin, PCs[1][0,0], PCs[1][0,1], scale=30*(1-eigvals[1][0]), color=PC_color, width=0.007)\n",
    "origin = [centroids[1][0]], [centroids[1][1]]\n",
    "plt.quiver(*origin, PCs[1][1,0], PCs[1][1,1], scale=15*(1-eigvals[1][1]), color=PC_color, width=0.007)\n",
    "plt.title('Locally applied PCA', **csfont, fontsize=font_text, color=PC_color)\n",
    "plt.yticks([]), plt.xticks([])\n",
    "\n",
    "# Plot centroids\n",
    "plt.scatter(centroids[:, 0], centroids[:, 1], color=PC_color, marker='x', lineWidth=data_point, s=20);\n",
    "\n",
    "if save_plots==True: plt.savefig('../images/tutorial-pca-global-local-pca.png', dpi = 500, bbox_inches='tight')"
   ]
  },
  {
   "cell_type": "code",
   "execution_count": null,
   "metadata": {},
   "outputs": [],
   "source": []
  },
  {
   "cell_type": "code",
   "execution_count": null,
   "metadata": {},
   "outputs": [],
   "source": []
  },
  {
   "cell_type": "code",
   "execution_count": null,
   "metadata": {},
   "outputs": [],
   "source": []
  },
  {
   "cell_type": "code",
   "execution_count": null,
   "metadata": {},
   "outputs": [],
   "source": []
  },
  {
   "cell_type": "code",
   "execution_count": null,
   "metadata": {},
   "outputs": [],
   "source": []
  }
 ],
 "metadata": {
  "kernelspec": {
   "display_name": "Python 3",
   "language": "python",
   "name": "python3"
  },
  "language_info": {
   "codemirror_mode": {
    "name": "ipython",
    "version": 3
   },
   "file_extension": ".py",
   "mimetype": "text/x-python",
   "name": "python",
   "nbconvert_exporter": "python",
   "pygments_lexer": "ipython3",
   "version": "3.7.6"
  }
 },
 "nbformat": 4,
 "nbformat_minor": 4
}
