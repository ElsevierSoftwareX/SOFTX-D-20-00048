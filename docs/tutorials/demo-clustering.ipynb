{
 "cells": [
  {
   "cell_type": "markdown",
   "metadata": {},
   "source": [
    "# Demo for clustering data sets\n",
    "\n",
    "In this notebook we present *clustering* functionalities of the `preprocess` module.\n",
    "\n",
    "### Clustering\n",
    "\n",
    "A synthetic data set is created and we perform clustering using the available partitioning functions:\n",
    "\n",
    "- Variable bins\n",
    "- Pre-defined variable bins\n",
    "- Bins of source vector\n",
    "- Bins of mixture fraction vector\n",
    "\n",
    "***"
   ]
  },
  {
   "cell_type": "code",
   "execution_count": 1,
   "metadata": {},
   "outputs": [],
   "source": [
    "from PCAfold import preprocess\n",
    "import matplotlib.pyplot as plt\n",
    "import numpy as np\n",
    "\n",
    "# Set some initial parameters:\n",
    "colors = ['#6a6e7a']\n",
    "k_colors = ['#0e7da7', '#ceca70', '#b45050', '#2d2d54']\n",
    "data_point = 2\n",
    "font_size = 16\n",
    "save_plots = False\n",
    "\n",
    "# Function for plotting:\n",
    "def visualize_clustering(x, y, idx, xticks_list, xlim_list=[-1.1,1.1], xname=r'$var$'):\n",
    "    \n",
    "    populations = preprocess.get_populations(idx)\n",
    "    n_clusters = len(np.unique(idx))\n",
    "    figure = plt.figure(figsize=(7, 4))\n",
    "    figureSubplot = plt.subplot(1,1,1)\n",
    "    for k in range(0,n_clusters):\n",
    "        plt.scatter(x[np.where(idx==k)], y[np.where(idx==k)], color=k_colors[k], marker='.', linewidth=data_point, label='$k_' + str(k+1) + '$ - ' + str(populations[k]))\n",
    "    plt.axis('equal')\n",
    "    plt.xlim(xlim_list), plt.ylim([-0.1,1.1])\n",
    "    plt.xticks(xticks_list), plt.yticks([0,1])\n",
    "    plt.xlabel(xname)\n",
    "    plt.grid(alpha=0.2)\n",
    "    plt.title('Clustered data set', fontsize=font_size)\n",
    "    plt.legend(loc='upper center', bbox_to_anchor=(0.5, -0.2), fancybox=True, shadow=True, ncol=4, fontsize=font_size-4, markerscale=2)"
   ]
  },
  {
   "cell_type": "markdown",
   "metadata": {},
   "source": [
    "***\n",
    "\n",
    "## Clustering based on a single vector\n",
    "\n",
    "We start with partitioning the synthetic two-dimensional data set based on bins of a variable vector.\n",
    "\n",
    "Create a synthetic two-dimensional data set:"
   ]
  },
  {
   "cell_type": "code",
   "execution_count": 2,
   "metadata": {},
   "outputs": [],
   "source": [
    "var = np.linspace(-1,1,100)\n",
    "y = -var**2 + 1"
   ]
  },
  {
   "cell_type": "markdown",
   "metadata": {},
   "source": [
    "Plot the synthetic data set:"
   ]
  },
  {
   "cell_type": "code",
   "execution_count": 3,
   "metadata": {},
   "outputs": [
    {
     "data": {
      "image/png": "[encoded data removed]",
      "text/plain": [
       "<Figure size 504x288 with 1 Axes>"
      ]
     },
     "metadata": {
      "needs_background": "light"
     },
     "output_type": "display_data"
    }
   ],
   "source": [
    "figure = plt.figure(figsize=(7, 4))\n",
    "figureSubplot = plt.subplot(1,1,1)\n",
    "plt.scatter(var, y, color=colors[0], marker='.', linewidth=data_point,)\n",
    "plt.axis('equal')\n",
    "plt.xlim([-1.1,1.1]), plt.ylim([0,1])\n",
    "plt.xticks([-1,0,1]), plt.yticks([0,1])\n",
    "plt.xlabel(r'$var$')\n",
    "plt.grid(alpha=0.2)\n",
    "plt.title('Original data set', fontsize=font_size)\n",
    "if save_plots==True: plt.savefig('../images/tutorial-clustering-original-data-set.png', dpi = 500, bbox_inches='tight')"
   ]
  },
  {
   "cell_type": "markdown",
   "metadata": {},
   "source": [
    "### Cluster with `variable_bins` into $k=4$ clusters:"
   ]
  },
  {
   "cell_type": "code",
   "execution_count": 4,
   "metadata": {},
   "outputs": [
    {
     "name": "stdout",
     "output_type": "stream",
     "text": [
      "Border values for bins:\n",
      "[-1.0, -0.5, 0.0, 0.5, 1.0]\n",
      "\n",
      "Bounds for cluster 1:\n",
      "\t-1.0, -0.5152\n",
      "Bounds for cluster 2:\n",
      "\t-0.4949, -0.0101\n",
      "Bounds for cluster 3:\n",
      "\t0.0101, 0.4949\n",
      "Bounds for cluster 4:\n",
      "\t0.5152, 1.0\n"
     ]
    }
   ],
   "source": [
    "(idx_variable_bins) = preprocess.variable_bins(var, 4, verbose=True)"
   ]
  },
  {
   "cell_type": "markdown",
   "metadata": {},
   "source": [
    "Visualize clustering of the data set:"
   ]
  },
  {
   "cell_type": "code",
   "execution_count": 5,
   "metadata": {},
   "outputs": [
    {
     "data": {
      "image/png": "[encoded data removed]",
      "text/plain": [
       "<Figure size 504x288 with 1 Axes>"
      ]
     },
     "metadata": {
      "needs_background": "light"
     },
     "output_type": "display_data"
    }
   ],
   "source": [
    "visualize_clustering(var, y, idx_variable_bins, [-1,-0.5,0,0.5,1])\n",
    "if save_plots==True: plt.savefig('../images/tutorial-clustering-variable-bins-k4.png', dpi = 500, bbox_inches='tight')"
   ]
  },
  {
   "cell_type": "markdown",
   "metadata": {},
   "source": [
    "### Cluster with `predefined_variable_bins` into $k=4$ clusters:"
   ]
  },
  {
   "cell_type": "code",
   "execution_count": 6,
   "metadata": {},
   "outputs": [
    {
     "name": "stdout",
     "output_type": "stream",
     "text": [
      "Border values for bins:\n",
      "[-1.0, -0.6, 0.4, 0.8, 1.0]\n",
      "\n",
      "Bounds for cluster 1:\n",
      "\t-1.0, -0.6162\n",
      "Bounds for cluster 2:\n",
      "\t-0.596, 0.3939\n",
      "Bounds for cluster 3:\n",
      "\t0.4141, 0.798\n",
      "Bounds for cluster 4:\n",
      "\t0.8182, 1.0\n"
     ]
    }
   ],
   "source": [
    "split_values = [-0.6, 0.4, 0.8]\n",
    "(idx_predefined_variable_bins) = preprocess.predefined_variable_bins(var, split_values, verbose=True)"
   ]
  },
  {
   "cell_type": "markdown",
   "metadata": {},
   "source": [
    "Visualize clustering of the data set:"
   ]
  },
  {
   "cell_type": "code",
   "execution_count": 7,
   "metadata": {},
   "outputs": [
    {
     "data": {
      "image/png": "[encoded data removed]",
      "text/plain": [
       "<Figure size 504x288 with 1 Axes>"
      ]
     },
     "metadata": {
      "needs_background": "light"
     },
     "output_type": "display_data"
    }
   ],
   "source": [
    "visualize_clustering(var, y, idx_predefined_variable_bins, [-1, -0.6, 0.4, 0.8, 1])\n",
    "if save_plots==True: plt.savefig('../images/tutorial-clustering-predefined-variable-bins-k4.png', dpi = 500, bbox_inches='tight')"
   ]
  },
  {
   "cell_type": "markdown",
   "metadata": {},
   "source": [
    "### Cluster with `source_bins` into $k=3$ clusters with `split_at_zero=True`:"
   ]
  },
  {
   "cell_type": "code",
   "execution_count": 8,
   "metadata": {},
   "outputs": [
    {
     "name": "stdout",
     "output_type": "stream",
     "text": [
      "Border values for bins:\n",
      "[-1.  -0.2  0.2  1. ]\n",
      "\n",
      "Bounds for cluster 1:\n",
      "\t-1.0, -0.2121\n",
      "Bounds for cluster 2:\n",
      "\t-0.1919, 0.1919\n",
      "Bounds for cluster 3:\n",
      "\t0.2121, 1.0\n"
     ]
    }
   ],
   "source": [
    "(idx_source_bins) = preprocess.source_bins(var, 3, zero_offset_percentage=10, split_at_zero=False, verbose=True)"
   ]
  },
  {
   "cell_type": "markdown",
   "metadata": {},
   "source": [
    "Visualize clustering of the data set:"
   ]
  },
  {
   "cell_type": "code",
   "execution_count": 9,
   "metadata": {},
   "outputs": [
    {
     "data": {
      "image/png": "[encoded data removed]",
      "text/plain": [
       "<Figure size 504x288 with 1 Axes>"
      ]
     },
     "metadata": {
      "needs_background": "light"
     },
     "output_type": "display_data"
    }
   ],
   "source": [
    "visualize_clustering(var, y, idx_source_bins, [-1, -0.2, 0.2, 1])\n",
    "if save_plots==True: plt.savefig('../images/tutorial-clustering-pc-source-bins-k3.png', dpi = 500, bbox_inches='tight')"
   ]
  },
  {
   "cell_type": "markdown",
   "metadata": {},
   "source": [
    "### Cluster with `source_bins` into $k=4$ clusters with `split_at_zero=True`:"
   ]
  },
  {
   "cell_type": "code",
   "execution_count": 10,
   "metadata": {},
   "outputs": [
    {
     "name": "stdout",
     "output_type": "stream",
     "text": [
      "Border values for bins:\n",
      "[-1.  -0.2  0.   0.2  1. ]\n",
      "\n",
      "Bounds for cluster 1:\n",
      "\t-1.0, -0.2121\n",
      "Bounds for cluster 2:\n",
      "\t-0.1919, -0.0101\n",
      "Bounds for cluster 3:\n",
      "\t0.0101, 0.1919\n",
      "Bounds for cluster 4:\n",
      "\t0.2121, 1.0\n"
     ]
    }
   ],
   "source": [
    "(idx_source_bins_split_at_zero) = preprocess.source_bins(var, 4, zero_offset_percentage=10, split_at_zero=True, verbose=True)"
   ]
  },
  {
   "cell_type": "markdown",
   "metadata": {},
   "source": [
    "Visualize clustering of the data set:"
   ]
  },
  {
   "cell_type": "code",
   "execution_count": 11,
   "metadata": {},
   "outputs": [
    {
     "data": {
      "image/png": "[encoded data removed]",
      "text/plain": [
       "<Figure size 504x288 with 1 Axes>"
      ]
     },
     "metadata": {
      "needs_background": "light"
     },
     "output_type": "display_data"
    }
   ],
   "source": [
    "visualize_clustering(var, y, idx_source_bins_split_at_zero, [-1, -0.2, 0, 0.2, 1])\n",
    "if save_plots==True: plt.savefig('../images/tutorial-clustering-pc-source-bins-split-at-zero-k4.png', dpi = 500, bbox_inches='tight')"
   ]
  },
  {
   "cell_type": "markdown",
   "metadata": {},
   "source": [
    "### Cluster with `mixture_fraction_bins` into $k=4$ clusters with `Z_stoich=0.4`:"
   ]
  },
  {
   "cell_type": "code",
   "execution_count": 12,
   "metadata": {},
   "outputs": [
    {
     "name": "stdout",
     "output_type": "stream",
     "text": [
      "Border values for bins:\n",
      "[0.  0.2 0.4 0.7 1. ]\n",
      "\n",
      "Bounds for cluster 1:\n",
      "\t0.0, 0.1919\n",
      "Bounds for cluster 2:\n",
      "\t0.202, 0.3939\n",
      "Bounds for cluster 3:\n",
      "\t0.404, 0.697\n",
      "Bounds for cluster 4:\n",
      "\t0.7071, 1.0\n"
     ]
    }
   ],
   "source": [
    "Z = np.linspace(0,1,100)\n",
    "y_Z = (-25/9)*Z**2 + (20/9)*Z + (5/9)\n",
    "(idx_mixture_fraction_bins) = preprocess.mixture_fraction_bins(Z, 4, 0.4, verbose=True)"
   ]
  },
  {
   "cell_type": "markdown",
   "metadata": {},
   "source": [
    "Visualize clustering of the data set:"
   ]
  },
  {
   "cell_type": "code",
   "execution_count": 13,
   "metadata": {},
   "outputs": [
    {
     "data": {
      "image/png": "[encoded data removed]",
      "text/plain": [
       "<Figure size 504x288 with 1 Axes>"
      ]
     },
     "metadata": {
      "needs_background": "light"
     },
     "output_type": "display_data"
    }
   ],
   "source": [
    "visualize_clustering(Z, y_Z, idx_mixture_fraction_bins, [0, 0.2, 0.4, 0.7, 1], xlim_list=[-0.01,1.01], xname=r'$Z$')\n",
    "if save_plots==True: plt.savefig('../images/tutorial-clustering-mixture-fraction-bins-k4.png', dpi = 500, bbox_inches='tight')"
   ]
  },
  {
   "cell_type": "markdown",
   "metadata": {},
   "source": [
    "***\n",
    "\n",
    "## Clustering using VQPCA algorithm"
   ]
  },
  {
   "cell_type": "code",
   "execution_count": null,
   "metadata": {},
   "outputs": [],
   "source": []
  }
 ],
 "metadata": {
  "kernelspec": {
   "display_name": "Python 3",
   "language": "python",
   "name": "python3"
  },
  "language_info": {
   "codemirror_mode": {
    "name": "ipython",
    "version": 3
   },
   "file_extension": ".py",
   "mimetype": "text/x-python",
   "name": "python",
   "nbconvert_exporter": "python",
   "pygments_lexer": "ipython3",
   "version": "3.7.6"
  }
 },
 "nbformat": 4,
 "nbformat_minor": 4
}
